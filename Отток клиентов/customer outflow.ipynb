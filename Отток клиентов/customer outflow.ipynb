{
  "cells": [
    {
      "cell_type": "markdown",
      "metadata": {
        "toc": true,
        "id": "ZTHTFOHJzVk3"
      },
      "source": [
        "<h1>Содержание<span class=\"tocSkip\"></span></h1>\n",
        "<div class=\"toc\"><ul class=\"toc-item\"><li><span><a href=\"#Подготовка-данных\" data-toc-modified-id=\"Подготовка-данных-1\"><span class=\"toc-item-num\">1&nbsp;&nbsp;</span>Подготовка данных</a></span></li><li><span><a href=\"#Исследование-задачи\" data-toc-modified-id=\"Исследование-задачи-2\"><span class=\"toc-item-num\">2&nbsp;&nbsp;</span>Исследование задачи</a></span></li><li><span><a href=\"#Борьба-с-дисбалансом\" data-toc-modified-id=\"Борьба-с-дисбалансом-3\"><span class=\"toc-item-num\">3&nbsp;&nbsp;</span>Борьба с дисбалансом</a></span></li><li><span><a href=\"#Тестирование-модели\" data-toc-modified-id=\"Тестирование-модели-4\"><span class=\"toc-item-num\">4&nbsp;&nbsp;</span>Тестирование модели</a></span></li></ul></div>"
      ]
    },
    {
      "cell_type": "markdown",
      "metadata": {
        "id": "1j_hikf9zVk4"
      },
      "source": [
        "# Отток клиентов"
      ]
    },
    {
      "cell_type": "markdown",
      "metadata": {
        "id": "bN4pyVX_zVk4"
      },
      "source": [
        "Из «Бета-Банка» стали уходить клиенты. Каждый месяц. Немного, но заметно. Банковские маркетологи посчитали: сохранять текущих клиентов дешевле, чем привлекать новых.\n",
        "\n",
        "Нужно спрогнозировать, уйдёт клиент из банка в ближайшее время или нет. Вам предоставлены исторические данные о поведении клиентов и расторжении договоров с банком.\n",
        "\n",
        "Постройте модель с предельно большим значением *F1*-меры. Чтобы сдать проект успешно, нужно довести метрику до 0.59. Проверьте *F1*-меру на тестовой выборке самостоятельно.\n",
        "\n",
        "Дополнительно измеряйте *AUC-ROC*, сравнивайте её значение с *F1*-мерой.\n",
        "\n",
        "Источник данных: [https://www.kaggle.com/barelydedicated/bank-customer-churn-modeling](https://www.kaggle.com/barelydedicated/bank-customer-churn-modeling)"
      ]
    },
    {
      "cell_type": "markdown",
      "metadata": {
        "id": "375VxDGZzVk4"
      },
      "source": [
        "<div class=\"alert alert-block alert-warning\">\n",
        "<b>⚠️ Совет:</b>\n",
        "\n",
        "Важно чтобы в проектах было подробное описание: когда потенциальные работодатели будут смотреть твой проект в портфолио, им нужно будет понимать задачу, чтобы можно было оценить её решение. Вот что можно добавить:\n",
        "    \n",
        "* Описание целей и задачи проекта\n",
        "* Описание данных\n",
        "* План работы\n",
        "\n",
        "И рекомендую писать введение от первого лица множественного числа. Так работа выглядит более самостоятельной)\n",
        "</div>"
      ]
    },
    {
      "cell_type": "markdown",
      "metadata": {
        "id": "QcoUX8XczVk5"
      },
      "source": [
        "## Подготовка данных"
      ]
    },
    {
      "cell_type": "code",
      "execution_count": null,
      "metadata": {
        "id": "7dFAYEi3zVk5"
      },
      "outputs": [],
      "source": [
        "import pandas as pd\n",
        "\n",
        "from sklearn.preprocessing import StandardScaler\n",
        "\n",
        "from sklearn.utils import shuffle\n",
        "\n",
        "from sklearn.model_selection import train_test_split\n",
        "\n",
        "from sklearn.metrics import accuracy_score, f1_score, roc_auc_score, roc_curve\n",
        "\n",
        "import matplotlib.pyplot as plt\n",
        "\n",
        "from random import randint\n",
        "\n",
        "from sklearn.linear_model import LogisticRegression\n",
        "from sklearn.ensemble import RandomForestClassifier"
      ]
    },
    {
      "cell_type": "code",
      "execution_count": null,
      "metadata": {
        "scrolled": false,
        "id": "zgE69kjLzVk6",
        "outputId": "d3bfc0af-2eac-453d-d77c-6a7569f6fda0"
      },
      "outputs": [
        {
          "name": "stdout",
          "output_type": "stream",
          "text": [
            "<class 'pandas.core.frame.DataFrame'>\n",
            "RangeIndex: 10000 entries, 0 to 9999\n",
            "Data columns (total 14 columns):\n",
            " #   Column           Non-Null Count  Dtype  \n",
            "---  ------           --------------  -----  \n",
            " 0   RowNumber        10000 non-null  int64  \n",
            " 1   CustomerId       10000 non-null  int64  \n",
            " 2   Surname          10000 non-null  object \n",
            " 3   CreditScore      10000 non-null  int64  \n",
            " 4   Geography        10000 non-null  object \n",
            " 5   Gender           10000 non-null  object \n",
            " 6   Age              10000 non-null  int64  \n",
            " 7   Tenure           9091 non-null   float64\n",
            " 8   Balance          10000 non-null  float64\n",
            " 9   NumOfProducts    10000 non-null  int64  \n",
            " 10  HasCrCard        10000 non-null  int64  \n",
            " 11  IsActiveMember   10000 non-null  int64  \n",
            " 12  EstimatedSalary  10000 non-null  float64\n",
            " 13  Exited           10000 non-null  int64  \n",
            "dtypes: float64(3), int64(8), object(3)\n",
            "memory usage: 1.1+ MB\n",
            "None\n",
            "**************************************************\n",
            "(10000, 14)\n",
            "**************************************************\n",
            "   RowNumber  CustomerId   Surname  CreditScore Geography  Gender  Age  \\\n",
            "0          1    15634602  Hargrave          619    France  Female   42   \n",
            "1          2    15647311      Hill          608     Spain  Female   41   \n",
            "2          3    15619304      Onio          502    France  Female   42   \n",
            "3          4    15701354      Boni          699    France  Female   39   \n",
            "4          5    15737888  Mitchell          850     Spain  Female   43   \n",
            "\n",
            "   Tenure    Balance  NumOfProducts  HasCrCard  IsActiveMember  \\\n",
            "0     2.0       0.00              1          1               1   \n",
            "1     1.0   83807.86              1          0               1   \n",
            "2     8.0  159660.80              3          1               0   \n",
            "3     1.0       0.00              2          0               0   \n",
            "4     2.0  125510.82              1          1               1   \n",
            "\n",
            "   EstimatedSalary  Exited  \n",
            "0        101348.88       1  \n",
            "1        112542.58       0  \n",
            "2        113931.57       1  \n",
            "3         93826.63       0  \n",
            "4         79084.10       0  \n",
            "**************************************************\n",
            "RowNumber            0\n",
            "CustomerId           0\n",
            "Surname              0\n",
            "CreditScore          0\n",
            "Geography            0\n",
            "Gender               0\n",
            "Age                  0\n",
            "Tenure             909\n",
            "Balance              0\n",
            "NumOfProducts        0\n",
            "HasCrCard            0\n",
            "IsActiveMember       0\n",
            "EstimatedSalary      0\n",
            "Exited               0\n",
            "dtype: int64\n"
          ]
        }
      ],
      "source": [
        "data = pd.read_csv('/datasets/Churn.csv')\n",
        "print(data.info())\n",
        "print('*' * 50)\n",
        "print(data.shape)\n",
        "print('*' * 50)\n",
        "print(data.head())\n",
        "print('*' * 50)\n",
        "print(data.isna().sum())\n"
      ]
    },
    {
      "cell_type": "markdown",
      "metadata": {
        "id": "p8l02B33zVk7"
      },
      "source": [
        "**Удалим ненужные стобцы и сделаем Onehot encoding**"
      ]
    },
    {
      "cell_type": "code",
      "execution_count": null,
      "metadata": {
        "id": "2RJsjEJczVk7"
      },
      "outputs": [],
      "source": [
        "data = data.drop(['Surname', 'RowNumber', 'CustomerId'], axis=1)\n",
        "data_ohe = pd.get_dummies(data, drop_first=True)"
      ]
    },
    {
      "cell_type": "markdown",
      "metadata": {
        "id": "cdOQy7zVzVk8"
      },
      "source": [
        "**Заменим пропуски в стобце Tenure на случайные числа от 0 до 10**"
      ]
    },
    {
      "cell_type": "code",
      "execution_count": null,
      "metadata": {
        "scrolled": false,
        "id": "4fCgDKO6zVk8",
        "outputId": "0a851c7f-cb44-4598-c5c9-86b75b428b23"
      },
      "outputs": [
        {
          "data": {
            "text/plain": [
              "array([ 6,  3,  0,  7,  8,  5,  9, 10,  1,  2,  4])"
            ]
          },
          "execution_count": 4,
          "metadata": {},
          "output_type": "execute_result"
        }
      ],
      "source": [
        "data_ohe['Tenure'] = data_ohe['Tenure'].apply(lambda v: randint(0, 10))\n",
        "data_ohe['Tenure'].unique()"
      ]
    },
    {
      "cell_type": "markdown",
      "metadata": {
        "id": "uhXSb7m4zVk8"
      },
      "source": [
        "**Scaling**"
      ]
    },
    {
      "cell_type": "code",
      "execution_count": null,
      "metadata": {
        "id": "Rczn2-OzzVk9",
        "outputId": "3d8a1e3b-cfb7-4ab6-d8e1-1087fca7a531"
      },
      "outputs": [
        {
          "name": "stdout",
          "output_type": "stream",
          "text": [
            "   CreditScore       Age  Tenure   Balance  NumOfProducts  HasCrCard  \\\n",
            "0    -0.326221  0.293517       6 -1.225848              1          1   \n",
            "1    -0.440036  0.198164       3  0.117350              1          0   \n",
            "2    -1.536794  0.293517       6  1.333053              3          1   \n",
            "3     0.501521  0.007457       0 -1.225848              2          0   \n",
            "4     2.063884  0.388871       7  0.785728              1          1   \n",
            "\n",
            "   IsActiveMember  EstimatedSalary  Exited  Geography_Germany  \\\n",
            "0               1         0.021886       1                  0   \n",
            "1               1         0.216534       0                  0   \n",
            "2               0         0.240687       1                  0   \n",
            "3               0        -0.108918       0                  0   \n",
            "4               1        -0.365276       0                  0   \n",
            "\n",
            "   Geography_Spain  Gender_Male  \n",
            "0                0            0  \n",
            "1                1            0  \n",
            "2                0            0  \n",
            "3                0            0  \n",
            "4                1            0  \n"
          ]
        }
      ],
      "source": [
        "numeric = ['CreditScore', 'Age', 'Balance', 'EstimatedSalary']\n",
        "\n",
        "scaler = StandardScaler().fit(data_ohe[numeric])\n",
        "\n",
        "data_ohe[numeric] = scaler.transform(data_ohe[numeric])\n",
        "\n",
        "print(data_ohe.head())"
      ]
    },
    {
      "cell_type": "markdown",
      "metadata": {
        "id": "tQSVY1HizVk9"
      },
      "source": [
        "**Деление на обучающую, валидационную и тестовую выборки**"
      ]
    },
    {
      "cell_type": "code",
      "execution_count": null,
      "metadata": {
        "id": "_gFMFcMIzVk9"
      },
      "outputs": [],
      "source": [
        "target = data_ohe['Exited']\n",
        "features = data_ohe.drop('Exited', axis=1)\n",
        "features_train, features_valid_test, target_train, target_valid_test = train_test_split(\n",
        "    features, target, test_size=0.4, random_state=12345)\n",
        "\n",
        "features_valid, features_test, target_valid, target_test = train_test_split(\n",
        "    features_valid_test, target_valid_test, test_size=0.5, random_state=12345)\n",
        "\n"
      ]
    },
    {
      "cell_type": "markdown",
      "metadata": {
        "id": "QV-QA8zzzVk-"
      },
      "source": [
        "## Исследование задачи"
      ]
    },
    {
      "cell_type": "markdown",
      "metadata": {
        "id": "qKEebgUTzVk-"
      },
      "source": [
        "**Logistic regression**"
      ]
    },
    {
      "cell_type": "code",
      "execution_count": null,
      "metadata": {
        "id": "WFbLiHBJzVk-",
        "outputId": "fe6d214c-6a92-4ae4-b32f-686ce2c933dd"
      },
      "outputs": [
        {
          "name": "stdout",
          "output_type": "stream",
          "text": [
            "Accuracy: 0.801\n",
            "F1: 0.3208191126279864\n",
            "AUC-ROC: 0.7571513256189548\n"
          ]
        }
      ],
      "source": [
        "logic_model = LogisticRegression(random_state=12345).fit(features_train, target_train)\n",
        "predictions = logic_model.predict(features_valid)\n",
        "\n",
        "probabilities_valid = logic_model.predict_proba(features_valid)\n",
        "probabilities_one = probabilities_valid[:, 1]\n",
        "\n",
        "print(\"Accuracy:\", accuracy_score(predictions, target_valid))\n",
        "print(\"F1:\", f1_score(predictions, target_valid))\n",
        "print(\"AUC-ROC:\", roc_auc_score(target_valid, probabilities_one))"
      ]
    },
    {
      "cell_type": "markdown",
      "metadata": {
        "id": "aABs7Dx9zVk-"
      },
      "source": [
        "**Random Forest**"
      ]
    },
    {
      "cell_type": "code",
      "execution_count": null,
      "metadata": {
        "id": "KQhNTEyQzVk-",
        "outputId": "b05df3f4-484e-4261-d4e8-3f5874cdbe9f"
      },
      "outputs": [
        {
          "name": "stdout",
          "output_type": "stream",
          "text": [
            "Accuracy: 0.8615\n",
            "F1: 0.5834586466165413\n",
            "AUC-ROC: 0.8322999776190274\n"
          ]
        }
      ],
      "source": [
        "forest_model = RandomForestClassifier().fit(features_train, target_train)\n",
        "predictions = forest_model.predict(features_valid)\n",
        "\n",
        "probabilities_valid = forest_model.predict_proba(features_valid)\n",
        "probabilities_one = probabilities_valid[:, 1]\n",
        "\n",
        "print(\"Accuracy:\",  accuracy_score(predictions, target_valid))\n",
        "print(\"F1:\", f1_score(predictions, target_valid))\n",
        "print(\"AUC-ROC:\", roc_auc_score(target_valid, probabilities_one))"
      ]
    },
    {
      "cell_type": "markdown",
      "metadata": {
        "id": "5js3if16zVk_"
      },
      "source": [
        "*F1 у Random Forest выше, будем использовать его*"
      ]
    },
    {
      "cell_type": "markdown",
      "metadata": {
        "id": "po6OGWCGzVk_"
      },
      "source": [
        "## Борьба с дисбалансом"
      ]
    },
    {
      "cell_type": "markdown",
      "metadata": {
        "id": "pPUTqDn9zVlA"
      },
      "source": [
        "**Upsampling**"
      ]
    },
    {
      "cell_type": "code",
      "execution_count": null,
      "metadata": {
        "scrolled": true,
        "id": "9HKJgK4CzVlA",
        "outputId": "e6a41160-f3da-4425-e164-34e1cb074bf5"
      },
      "outputs": [
        {
          "name": "stdout",
          "output_type": "stream",
          "text": [
            "0    7963\n",
            "1    2037\n",
            "Name: Exited, dtype: int64\n"
          ]
        },
        {
          "data": {
            "text/plain": [
              "Text(0.5, 1.0, 'Соотношение классов')"
            ]
          },
          "execution_count": 9,
          "metadata": {},
          "output_type": "execute_result"
        },
        {
          "data": {
            "image/png": "[encoded data removed]",
            "text/plain": [
              "<Figure size 432x288 with 1 Axes>"
            ]
          },
          "metadata": {},
          "output_type": "display_data"
        }
      ],
      "source": [
        "print(data_ohe['Exited'].value_counts())\n",
        "plt.pie(data_ohe['Exited'].value_counts(), labels=('Отрицательный класс', 'Положительный класс'))\n",
        "plt.title(\"Соотношение классов\")"
      ]
    },
    {
      "cell_type": "markdown",
      "metadata": {
        "id": "h8kjbv9DzVlA"
      },
      "source": [
        "*Выявлен явный дисбаланс классов, отрицательного к положительному - 4 к 1*"
      ]
    },
    {
      "cell_type": "code",
      "execution_count": null,
      "metadata": {
        "id": "QiN9WRV6zVlA"
      },
      "outputs": [],
      "source": [
        "def upsample(features, target, repeat):\n",
        "    features_zeros = features[target == 0]\n",
        "    features_ones = features[target == 1]\n",
        "    target_zeros = target[target == 0]\n",
        "    target_ones = target[target == 1]\n",
        "\n",
        "    features_upsampled = pd.concat([features_zeros] + [features_ones] * repeat)\n",
        "    target_upsampled = pd.concat([target_zeros] + [target_ones] * repeat)\n",
        "\n",
        "    features_upsampled, target_upsampled = shuffle(\n",
        "        features_upsampled, target_upsampled, random_state=12345)\n",
        "\n",
        "    return features_upsampled, target_upsampled\n",
        "\n",
        "\n",
        "features_upsampled, target_upsampled = upsample(features_train, target_train, 4)"
      ]
    },
    {
      "cell_type": "code",
      "execution_count": null,
      "metadata": {
        "scrolled": true,
        "id": "s9wsZ5BGzVlA",
        "outputId": "68309e2d-b3b3-4820-c39a-ac4df9037ae6"
      },
      "outputs": [
        {
          "name": "stdout",
          "output_type": "stream",
          "text": [
            "F1: 0.6074270557029178 AUC-ROC: 0.8359013483023731\n"
          ]
        }
      ],
      "source": [
        "forest_model = RandomForestClassifier().fit(features_upsampled, target_upsampled)\n",
        "predicted = forest_model.predict(features_valid)\n",
        "\n",
        "probabilities_valid = forest_model.predict_proba(features_valid)\n",
        "probabilities_one = probabilities_valid[:, 1]\n",
        "\n",
        "print(\"F1:\", f1_score(predicted, target_valid), \"AUC-ROC:\", roc_auc_score(target_valid, probabilities_one))\n"
      ]
    },
    {
      "cell_type": "markdown",
      "metadata": {
        "id": "VJk6liXtzVlC"
      },
      "source": [
        "**Downsampling**"
      ]
    },
    {
      "cell_type": "code",
      "execution_count": null,
      "metadata": {
        "id": "XDSWzBn5zVlC"
      },
      "outputs": [],
      "source": [
        "def downsample(features, target, fraction):\n",
        "    features_zeros = features[target == 0]\n",
        "    features_ones = features[target == 1]\n",
        "    target_zeros = target[target == 0]\n",
        "    target_ones = target[target == 1]\n",
        "\n",
        "    features_downsampled = pd.concat(\n",
        "        [features_zeros.sample(frac=fraction, random_state=12345)] + [features_ones])\n",
        "    target_downsampled = pd.concat(\n",
        "        [target_zeros.sample(frac=fraction, random_state=12345)] + [target_ones])\n",
        "\n",
        "    features_downsampled, target_downsampled = shuffle(\n",
        "        features_downsampled, target_downsampled, random_state=12345)\n",
        "\n",
        "    return features_downsampled, target_downsampled\n",
        "\n",
        "features_downsampled, target_downsampled = downsample(features_train, target_train, 0.7)"
      ]
    },
    {
      "cell_type": "code",
      "execution_count": null,
      "metadata": {
        "scrolled": true,
        "id": "50OwpiJAzVlC",
        "outputId": "d6cd160c-1468-4f84-ff05-32fbe6a348c8"
      },
      "outputs": [
        {
          "name": "stdout",
          "output_type": "stream",
          "text": [
            "F1: 0.6202185792349726 AUC-ROC: 0.8349524253110652\n"
          ]
        }
      ],
      "source": [
        "forest_model = RandomForestClassifier().fit(features_downsampled, target_downsampled)\n",
        "predicted = forest_model.predict(features_valid)\n",
        "\n",
        "probabilities_valid = forest_model.predict_proba(features_valid)\n",
        "probabilities_one = probabilities_valid[:, 1]\n",
        "\n",
        "print(\"F1:\", f1_score(predicted, target_valid), \"AUC-ROC:\", roc_auc_score(target_valid, probabilities_one))"
      ]
    },
    {
      "cell_type": "markdown",
      "metadata": {
        "id": "RG2agA8rzVlD"
      },
      "source": [
        "*Методы выдают примерно одиниковый показатель F1, но для баланса в Downsampling пришлось удалить 70% датафрейма, что может сказаться в дальнейшем на качаство модели, поэтому выбираем Upsampling*"
      ]
    },
    {
      "cell_type": "markdown",
      "metadata": {
        "id": "Tl4H9CeTzVlD"
      },
      "source": [
        "**Найдем лучший параметр глубины**"
      ]
    },
    {
      "cell_type": "code",
      "execution_count": null,
      "metadata": {
        "id": "TEcC8MPfzVlD",
        "outputId": "b1f497aa-ebd6-44b2-f1bf-f84f89b32a07"
      },
      "outputs": [
        {
          "name": "stdout",
          "output_type": "stream",
          "text": [
            "F1: 0.5357483317445185 AUC-ROC: 0.801571507207278 Depth: 1\n",
            "F1: 0.5692599620493358 AUC-ROC: 0.8146318632462088 Depth: 2\n",
            "F1: 0.5867446393762183 AUC-ROC: 0.8315597420744137 Depth: 3\n",
            "F1: 0.5884615384615385 AUC-ROC: 0.8373916488727854 Depth: 4\n",
            "F1: 0.5932367149758453 AUC-ROC: 0.8479379260702037 Depth: 5\n",
            "F1: 0.6045589692765113 AUC-ROC: 0.8523884127051338 Depth: 6\n",
            "F1: 0.6222222222222222 AUC-ROC: 0.8545388007428064 Depth: 7\n",
            "F1: 0.6262833675564682 AUC-ROC: 0.8557289240801117 Depth: 8\n",
            "F1: 0.6278814489571899 AUC-ROC: 0.8514599047901331 Depth: 10\n",
            "Complete!\n"
          ]
        }
      ],
      "source": [
        "best = 0\n",
        "for depth in range(1, 30, 1):\n",
        "    forest_model = RandomForestClassifier(max_depth=depth).fit(features_upsampled, target_upsampled)\n",
        "    predicted = forest_model.predict(features_valid)\n",
        "\n",
        "    probabilities_valid = forest_model.predict_proba(features_valid)\n",
        "    probabilities_one = probabilities_valid[:, 1]\n",
        "    if f1_score(predicted, target_valid) > best:\n",
        "        print(\"F1:\", f1_score(predicted, target_valid), \"AUC-ROC:\", roc_auc_score(target_valid, probabilities_one), \"Depth:\", depth)\n",
        "        best = f1_score(predicted, target_valid)\n",
        "print('Complete!')"
      ]
    },
    {
      "cell_type": "markdown",
      "metadata": {
        "id": "PUk7R2tnzVlE"
      },
      "source": [
        "*Мы получили F1 рывный 62% и AUC-ROC равный 85% при глубине 8, будем использоват эту глубину*"
      ]
    },
    {
      "cell_type": "markdown",
      "metadata": {
        "id": "M2CKphWfzVlE"
      },
      "source": [
        "## Тестирование модели"
      ]
    },
    {
      "cell_type": "code",
      "execution_count": null,
      "metadata": {
        "id": "SBcY43OszVlE"
      },
      "outputs": [],
      "source": [
        "forest_model = RandomForestClassifier(max_depth=8).fit(features_upsampled, target_upsampled)\n",
        "predicted = forest_model.predict(features_test)\n",
        "\n",
        "probabilities_valid = forest_model.predict_proba(features_valid)\n",
        "probabilities_one = probabilities_valid[:, 1]"
      ]
    },
    {
      "cell_type": "code",
      "execution_count": null,
      "metadata": {
        "scrolled": true,
        "id": "vMVt3v-izVlE",
        "outputId": "e3b58e36-242d-4de2-bca2-ec3b10cb40c3"
      },
      "outputs": [
        {
          "name": "stdout",
          "output_type": "stream",
          "text": [
            "F1: 0.6107178968655207\n",
            "AUC-ROC: 0.8568857784041762\n"
          ]
        }
      ],
      "source": [
        "print(\"F1:\", f1_score(predicted, target_test))\n",
        "print(\"AUC-ROC:\", roc_auc_score(target_valid, probabilities_one))"
      ]
    },
    {
      "cell_type": "markdown",
      "metadata": {
        "id": "-ASK4W1LzVlF"
      },
      "source": [
        "**Визуализируем ROC-кривую лучшей модели.**"
      ]
    },
    {
      "cell_type": "code",
      "execution_count": null,
      "metadata": {
        "id": "IBkNNOGzzVlF",
        "outputId": "80301f90-eefd-4b51-93f6-acf105813745"
      },
      "outputs": [
        {
          "data": {
            "image/png": "[encoded data removed]",
            "text/plain": [
              "<Figure size 432x288 with 1 Axes>"
            ]
          },
          "metadata": {
            "needs_background": "light"
          },
          "output_type": "display_data"
        }
      ],
      "source": [
        "fpr, tpr, thresholds = roc_curve(target_valid, probabilities_one)\n",
        "\n",
        "plt.figure()\n",
        "\n",
        "plt.plot(fpr, tpr)\n",
        "\n",
        "plt.plot([0, 1], [0, 1], linestyle='--')\n",
        "\n",
        "plt.xlim([0, 1])\n",
        "plt.ylim([0, 1])\n",
        "\n",
        "plt.xlabel(\"False Positive Rate\")\n",
        "plt.ylabel(\"True Positive Rate\")\n",
        "\n",
        "plt.title(\"ROC-кривая\")\n",
        "plt.show()"
      ]
    },
    {
      "cell_type": "markdown",
      "metadata": {
        "id": "Fd7bL5G0zVlG"
      },
      "source": [
        "**Вывод:**\n",
        "- Нами был проведен первичный анализ данных, выявлен явный дисбаланс классов, отрицательного к положительному - 4 к 1.\n",
        "- Произвели предобработку данных, заполнили пропуски модой, прошкалировали количественные переменные, сделали Onehot encoding.\n",
        "- Модель случайного леса до борьбы с дисбалансом показывала результат метрики f1 - 58%.\n",
        "- Произвели upsampling положительного класса, благодаря чему удалось повысить f1 меру до 60%. Dowmsampling оказался более эффективен.\n",
        "- Нашли лучший параметр глубины. благодаря чему удалось повысить f1 меру до 62%\n",
        "- Проверка на тестовой выборке подтверждает, что upsampling помог справиться с дисбалансом классов и удалось увеличить метрику f1 до 61%."
      ]
    }
  ],
  "metadata": {
    "ExecuteTimeLog": [
      {
        "duration": 1220,
        "start_time": "2022-09-20T15:12:27.049Z"
      },
      {
        "duration": 85,
        "start_time": "2022-09-20T15:14:05.554Z"
      },
      {
        "duration": 259,
        "start_time": "2022-09-20T15:16:31.478Z"
      },
      {
        "duration": 259,
        "start_time": "2022-09-20T15:16:45.532Z"
      },
      {
        "duration": 42,
        "start_time": "2022-09-20T15:17:05.747Z"
      },
      {
        "duration": 167,
        "start_time": "2022-09-20T15:18:09.186Z"
      },
      {
        "duration": 135,
        "start_time": "2022-09-20T15:25:37.519Z"
      },
      {
        "duration": 106,
        "start_time": "2022-09-20T15:26:39.120Z"
      },
      {
        "duration": 3,
        "start_time": "2022-09-20T15:26:57.467Z"
      },
      {
        "duration": 409,
        "start_time": "2022-09-20T15:26:59.783Z"
      },
      {
        "duration": 126,
        "start_time": "2022-09-20T15:27:45.537Z"
      },
      {
        "duration": 133,
        "start_time": "2022-09-20T15:27:57.691Z"
      },
      {
        "duration": 397,
        "start_time": "2022-09-20T15:31:04.822Z"
      },
      {
        "duration": 50,
        "start_time": "2022-09-20T15:32:44.633Z"
      },
      {
        "duration": 135,
        "start_time": "2022-09-20T15:37:46.750Z"
      },
      {
        "duration": 130,
        "start_time": "2022-09-20T15:37:55.504Z"
      },
      {
        "duration": 6,
        "start_time": "2022-09-20T15:41:01.635Z"
      },
      {
        "duration": 235,
        "start_time": "2022-09-20T15:43:46.816Z"
      },
      {
        "duration": 390,
        "start_time": "2022-09-20T15:44:05.397Z"
      },
      {
        "duration": 330,
        "start_time": "2022-09-20T15:44:51.863Z"
      },
      {
        "duration": 60,
        "start_time": "2022-09-20T15:45:16.686Z"
      },
      {
        "duration": 408,
        "start_time": "2022-09-20T15:45:27.147Z"
      },
      {
        "duration": 68,
        "start_time": "2022-09-20T15:45:40.784Z"
      },
      {
        "duration": 9,
        "start_time": "2022-09-20T15:48:16.942Z"
      },
      {
        "duration": 4,
        "start_time": "2022-09-20T15:49:58.462Z"
      },
      {
        "duration": 16,
        "start_time": "2022-09-20T15:50:37.916Z"
      },
      {
        "duration": 22,
        "start_time": "2022-09-20T15:50:49.763Z"
      },
      {
        "duration": 18,
        "start_time": "2022-09-20T15:51:25.192Z"
      },
      {
        "duration": 16,
        "start_time": "2022-09-20T15:51:49.540Z"
      },
      {
        "duration": 34,
        "start_time": "2022-09-20T15:52:22.671Z"
      },
      {
        "duration": 25,
        "start_time": "2022-09-20T15:52:29.857Z"
      },
      {
        "duration": 30,
        "start_time": "2022-09-20T15:53:21.859Z"
      },
      {
        "duration": 24,
        "start_time": "2022-09-20T15:53:36.316Z"
      },
      {
        "duration": 69,
        "start_time": "2022-09-20T15:56:12.695Z"
      },
      {
        "duration": 27,
        "start_time": "2022-09-20T15:57:58.866Z"
      },
      {
        "duration": 27,
        "start_time": "2022-09-20T15:58:14.795Z"
      },
      {
        "duration": 31,
        "start_time": "2022-09-20T15:58:27.097Z"
      },
      {
        "duration": 32,
        "start_time": "2022-09-20T15:58:52.491Z"
      },
      {
        "duration": 8,
        "start_time": "2022-09-20T15:59:01.893Z"
      },
      {
        "duration": 42,
        "start_time": "2022-09-27T17:07:43.232Z"
      },
      {
        "duration": 1090,
        "start_time": "2022-09-27T17:07:52.368Z"
      },
      {
        "duration": 105,
        "start_time": "2022-09-27T17:07:53.460Z"
      },
      {
        "duration": 34,
        "start_time": "2022-09-27T17:07:53.567Z"
      },
      {
        "duration": 9,
        "start_time": "2022-09-27T17:07:53.603Z"
      },
      {
        "duration": 94,
        "start_time": "2022-09-27T17:07:53.614Z"
      },
      {
        "duration": 4,
        "start_time": "2022-09-27T17:08:40.228Z"
      },
      {
        "duration": 16,
        "start_time": "2022-09-27T17:08:46.080Z"
      },
      {
        "duration": 39,
        "start_time": "2022-09-27T17:11:32.521Z"
      },
      {
        "duration": 34,
        "start_time": "2022-09-27T17:12:09.011Z"
      },
      {
        "duration": 31,
        "start_time": "2022-09-27T17:12:26.532Z"
      },
      {
        "duration": 32,
        "start_time": "2022-09-27T17:12:36.833Z"
      },
      {
        "duration": 40,
        "start_time": "2022-09-27T17:13:10.917Z"
      },
      {
        "duration": 57,
        "start_time": "2022-09-27T17:18:08.874Z"
      },
      {
        "duration": 65,
        "start_time": "2022-09-27T17:19:48.104Z"
      },
      {
        "duration": 58,
        "start_time": "2022-09-27T17:19:59.524Z"
      },
      {
        "duration": 58,
        "start_time": "2022-09-27T17:20:32.297Z"
      },
      {
        "duration": 57,
        "start_time": "2022-09-27T17:22:04.878Z"
      },
      {
        "duration": 58,
        "start_time": "2022-09-27T17:22:16.335Z"
      },
      {
        "duration": 70,
        "start_time": "2022-09-27T17:24:23.684Z"
      },
      {
        "duration": 7,
        "start_time": "2022-09-27T17:27:11.562Z"
      },
      {
        "duration": 1028,
        "start_time": "2022-09-27T17:29:23.551Z"
      },
      {
        "duration": 61,
        "start_time": "2022-09-27T17:29:24.581Z"
      },
      {
        "duration": 5,
        "start_time": "2022-09-27T17:29:24.644Z"
      },
      {
        "duration": 63,
        "start_time": "2022-09-27T17:32:32.835Z"
      },
      {
        "duration": 56,
        "start_time": "2022-09-27T17:33:07.659Z"
      },
      {
        "duration": 100,
        "start_time": "2022-09-27T17:33:48.546Z"
      },
      {
        "duration": 10,
        "start_time": "2022-09-27T17:34:03.957Z"
      },
      {
        "duration": 18,
        "start_time": "2022-09-27T17:34:16.411Z"
      },
      {
        "duration": 21,
        "start_time": "2022-09-27T17:35:13.427Z"
      },
      {
        "duration": 25,
        "start_time": "2022-09-27T17:35:33.002Z"
      },
      {
        "duration": 16,
        "start_time": "2022-09-27T17:37:43.613Z"
      },
      {
        "duration": 16,
        "start_time": "2022-09-27T17:38:09.279Z"
      },
      {
        "duration": 26,
        "start_time": "2022-09-27T17:38:53.944Z"
      },
      {
        "duration": 31,
        "start_time": "2022-09-27T17:39:02.236Z"
      },
      {
        "duration": 3,
        "start_time": "2022-09-27T17:39:40.680Z"
      },
      {
        "duration": 15,
        "start_time": "2022-09-27T17:39:47.018Z"
      },
      {
        "duration": 9,
        "start_time": "2022-09-27T17:41:38.799Z"
      },
      {
        "duration": 12,
        "start_time": "2022-09-27T17:41:42.489Z"
      },
      {
        "duration": 12,
        "start_time": "2022-09-27T17:42:06.213Z"
      },
      {
        "duration": 826,
        "start_time": "2022-09-27T17:42:18.882Z"
      },
      {
        "duration": 1007,
        "start_time": "2022-09-27T17:42:26.350Z"
      },
      {
        "duration": 60,
        "start_time": "2022-09-27T17:42:27.359Z"
      },
      {
        "duration": 6,
        "start_time": "2022-09-27T17:42:27.420Z"
      },
      {
        "duration": 44,
        "start_time": "2022-09-27T17:42:27.427Z"
      },
      {
        "duration": 50,
        "start_time": "2022-09-27T17:42:27.473Z"
      },
      {
        "duration": 102,
        "start_time": "2022-09-27T17:50:46.031Z"
      },
      {
        "duration": 3,
        "start_time": "2022-09-27T17:51:05.702Z"
      },
      {
        "duration": 16,
        "start_time": "2022-09-27T17:51:09.496Z"
      },
      {
        "duration": 38,
        "start_time": "2022-09-27T17:51:29.112Z"
      },
      {
        "duration": 98,
        "start_time": "2022-09-27T17:52:19.438Z"
      },
      {
        "duration": 13,
        "start_time": "2022-09-27T17:53:17.762Z"
      },
      {
        "duration": 3,
        "start_time": "2022-09-27T17:54:45.490Z"
      },
      {
        "duration": 1441,
        "start_time": "2022-09-27T17:54:50.583Z"
      },
      {
        "duration": 63,
        "start_time": "2022-09-27T17:54:52.026Z"
      },
      {
        "duration": 7,
        "start_time": "2022-09-27T17:54:52.090Z"
      },
      {
        "duration": 35,
        "start_time": "2022-09-27T17:54:52.098Z"
      },
      {
        "duration": 39,
        "start_time": "2022-09-27T17:54:52.135Z"
      },
      {
        "duration": 79,
        "start_time": "2022-09-27T17:54:52.176Z"
      },
      {
        "duration": 62,
        "start_time": "2022-09-27T17:57:23.287Z"
      },
      {
        "duration": 338,
        "start_time": "2022-09-27T17:57:26.514Z"
      },
      {
        "duration": 81,
        "start_time": "2022-09-27T17:59:04.649Z"
      },
      {
        "duration": 359,
        "start_time": "2022-09-27T17:59:21.150Z"
      },
      {
        "duration": 46,
        "start_time": "2022-09-27T18:01:23.235Z"
      },
      {
        "duration": 47,
        "start_time": "2022-09-27T18:01:52.634Z"
      },
      {
        "duration": 65,
        "start_time": "2022-09-27T18:02:11.647Z"
      },
      {
        "duration": 175,
        "start_time": "2022-09-27T18:05:48.191Z"
      },
      {
        "duration": 128,
        "start_time": "2022-09-27T18:05:57.117Z"
      },
      {
        "duration": 16,
        "start_time": "2022-09-27T18:06:26.771Z"
      },
      {
        "duration": 9,
        "start_time": "2022-09-27T18:06:32.802Z"
      },
      {
        "duration": 26,
        "start_time": "2022-09-27T18:06:36.589Z"
      },
      {
        "duration": 22,
        "start_time": "2022-09-27T18:06:40.522Z"
      },
      {
        "duration": 19,
        "start_time": "2022-09-27T18:06:44.952Z"
      },
      {
        "duration": 17,
        "start_time": "2022-09-27T18:06:49.571Z"
      },
      {
        "duration": 1065,
        "start_time": "2022-09-27T18:06:57.195Z"
      },
      {
        "duration": 64,
        "start_time": "2022-09-27T18:06:58.262Z"
      },
      {
        "duration": 5,
        "start_time": "2022-09-27T18:06:58.328Z"
      },
      {
        "duration": 34,
        "start_time": "2022-09-27T18:06:58.335Z"
      },
      {
        "duration": 353,
        "start_time": "2022-09-27T18:06:58.370Z"
      },
      {
        "duration": 25,
        "start_time": "2022-09-27T18:06:58.725Z"
      },
      {
        "duration": 22,
        "start_time": "2022-09-27T18:07:02.654Z"
      },
      {
        "duration": 27,
        "start_time": "2022-09-27T18:07:11.899Z"
      },
      {
        "duration": 24,
        "start_time": "2022-09-27T18:07:15.288Z"
      },
      {
        "duration": 1076,
        "start_time": "2022-09-27T18:07:25.792Z"
      },
      {
        "duration": 60,
        "start_time": "2022-09-27T18:07:26.870Z"
      },
      {
        "duration": 5,
        "start_time": "2022-09-27T18:07:26.932Z"
      },
      {
        "duration": 32,
        "start_time": "2022-09-27T18:07:26.939Z"
      },
      {
        "duration": 349,
        "start_time": "2022-09-27T18:07:26.973Z"
      },
      {
        "duration": 29,
        "start_time": "2022-09-27T18:07:27.323Z"
      },
      {
        "duration": 18,
        "start_time": "2022-09-27T18:07:33.921Z"
      },
      {
        "duration": 46,
        "start_time": "2022-09-27T18:08:17.894Z"
      },
      {
        "duration": 59,
        "start_time": "2022-09-27T18:08:21.056Z"
      },
      {
        "duration": 60,
        "start_time": "2022-09-27T18:08:57.262Z"
      },
      {
        "duration": 45,
        "start_time": "2022-09-27T18:09:00.759Z"
      },
      {
        "duration": 58,
        "start_time": "2022-09-27T18:09:03.578Z"
      },
      {
        "duration": 75,
        "start_time": "2022-09-27T18:09:09.677Z"
      },
      {
        "duration": 73,
        "start_time": "2022-09-27T18:09:18.507Z"
      },
      {
        "duration": 46,
        "start_time": "2022-09-27T18:09:41.136Z"
      },
      {
        "duration": 39,
        "start_time": "2022-09-27T18:09:55.531Z"
      },
      {
        "duration": 29,
        "start_time": "2022-09-27T18:09:58.721Z"
      },
      {
        "duration": 45,
        "start_time": "2022-09-27T18:10:03.393Z"
      },
      {
        "duration": 40,
        "start_time": "2022-09-27T18:17:04.336Z"
      },
      {
        "duration": 52,
        "start_time": "2022-09-27T18:17:21.542Z"
      },
      {
        "duration": 4,
        "start_time": "2022-09-27T18:17:55.383Z"
      },
      {
        "duration": 1022,
        "start_time": "2022-09-27T18:18:03.252Z"
      },
      {
        "duration": 61,
        "start_time": "2022-09-27T18:18:04.275Z"
      },
      {
        "duration": 6,
        "start_time": "2022-09-27T18:18:04.337Z"
      },
      {
        "duration": 33,
        "start_time": "2022-09-27T18:18:04.344Z"
      },
      {
        "duration": 59,
        "start_time": "2022-09-27T18:18:04.379Z"
      },
      {
        "duration": 331,
        "start_time": "2022-09-27T18:18:04.440Z"
      },
      {
        "duration": 422,
        "start_time": "2022-09-27T18:18:17.710Z"
      },
      {
        "duration": 1274,
        "start_time": "2022-09-27T18:18:22.253Z"
      },
      {
        "duration": 60,
        "start_time": "2022-09-27T18:18:23.528Z"
      },
      {
        "duration": 7,
        "start_time": "2022-09-27T18:18:23.590Z"
      },
      {
        "duration": 34,
        "start_time": "2022-09-27T18:18:23.599Z"
      },
      {
        "duration": 37,
        "start_time": "2022-09-27T18:18:23.634Z"
      },
      {
        "duration": 329,
        "start_time": "2022-09-27T18:18:23.673Z"
      },
      {
        "duration": 3,
        "start_time": "2022-09-27T18:19:51.516Z"
      },
      {
        "duration": 1014,
        "start_time": "2022-09-27T18:19:56.559Z"
      },
      {
        "duration": 61,
        "start_time": "2022-09-27T18:19:57.575Z"
      },
      {
        "duration": 7,
        "start_time": "2022-09-27T18:19:57.637Z"
      },
      {
        "duration": 40,
        "start_time": "2022-09-27T18:19:57.645Z"
      },
      {
        "duration": 38,
        "start_time": "2022-09-27T18:19:57.701Z"
      },
      {
        "duration": 68,
        "start_time": "2022-09-27T18:19:57.740Z"
      },
      {
        "duration": 3,
        "start_time": "2022-09-27T18:20:22.082Z"
      },
      {
        "duration": 1020,
        "start_time": "2022-09-27T18:20:27.836Z"
      },
      {
        "duration": 59,
        "start_time": "2022-09-27T18:20:28.858Z"
      },
      {
        "duration": 5,
        "start_time": "2022-09-27T18:20:28.919Z"
      },
      {
        "duration": 42,
        "start_time": "2022-09-27T18:20:28.926Z"
      },
      {
        "duration": 48,
        "start_time": "2022-09-27T18:20:28.970Z"
      },
      {
        "duration": 54,
        "start_time": "2022-09-27T18:20:29.020Z"
      },
      {
        "duration": 65,
        "start_time": "2022-09-27T18:20:40.663Z"
      },
      {
        "duration": 1253,
        "start_time": "2022-10-02T16:09:55.675Z"
      },
      {
        "duration": 187,
        "start_time": "2022-10-02T16:10:46.843Z"
      },
      {
        "duration": 13,
        "start_time": "2022-10-02T16:10:52.134Z"
      },
      {
        "duration": 120,
        "start_time": "2022-10-02T16:11:28.855Z"
      },
      {
        "duration": 1159,
        "start_time": "2022-10-02T16:11:50.450Z"
      },
      {
        "duration": 61,
        "start_time": "2022-10-02T16:11:51.611Z"
      },
      {
        "duration": 110,
        "start_time": "2022-10-02T16:11:51.673Z"
      },
      {
        "duration": 0,
        "start_time": "2022-10-02T16:11:51.785Z"
      },
      {
        "duration": 0,
        "start_time": "2022-10-02T16:11:51.786Z"
      },
      {
        "duration": 0,
        "start_time": "2022-10-02T16:11:51.787Z"
      },
      {
        "duration": 0,
        "start_time": "2022-10-02T16:11:51.788Z"
      },
      {
        "duration": 59,
        "start_time": "2022-10-02T16:12:04.286Z"
      },
      {
        "duration": 62,
        "start_time": "2022-10-02T16:12:15.621Z"
      },
      {
        "duration": 57,
        "start_time": "2022-10-02T16:12:26.142Z"
      },
      {
        "duration": 11,
        "start_time": "2022-10-02T16:14:15.743Z"
      },
      {
        "duration": 11,
        "start_time": "2022-10-02T16:14:17.897Z"
      },
      {
        "duration": 3,
        "start_time": "2022-10-02T16:14:27.889Z"
      },
      {
        "duration": 60,
        "start_time": "2022-10-02T16:14:29.343Z"
      },
      {
        "duration": 6,
        "start_time": "2022-10-02T16:14:32.147Z"
      },
      {
        "duration": 11,
        "start_time": "2022-10-02T16:14:47.917Z"
      },
      {
        "duration": 63,
        "start_time": "2022-10-02T16:14:54.359Z"
      },
      {
        "duration": 36,
        "start_time": "2022-10-02T16:15:00.573Z"
      },
      {
        "duration": 11,
        "start_time": "2022-10-02T16:15:20.065Z"
      },
      {
        "duration": 71,
        "start_time": "2022-10-02T16:15:25.264Z"
      },
      {
        "duration": 47,
        "start_time": "2022-10-02T16:15:28.003Z"
      },
      {
        "duration": 24,
        "start_time": "2022-10-02T16:15:48.320Z"
      },
      {
        "duration": 1227,
        "start_time": "2022-10-02T16:15:57.703Z"
      },
      {
        "duration": 61,
        "start_time": "2022-10-02T16:15:58.933Z"
      },
      {
        "duration": 16,
        "start_time": "2022-10-02T16:15:58.997Z"
      },
      {
        "duration": 7,
        "start_time": "2022-10-02T16:15:59.016Z"
      },
      {
        "duration": 132,
        "start_time": "2022-10-02T16:15:59.025Z"
      },
      {
        "duration": 0,
        "start_time": "2022-10-02T16:15:59.158Z"
      },
      {
        "duration": 0,
        "start_time": "2022-10-02T16:15:59.160Z"
      },
      {
        "duration": 4,
        "start_time": "2022-10-02T16:17:46.803Z"
      },
      {
        "duration": 38,
        "start_time": "2022-10-02T16:17:50.694Z"
      },
      {
        "duration": 31,
        "start_time": "2022-10-02T16:20:26.279Z"
      },
      {
        "duration": 1250,
        "start_time": "2022-10-02T16:20:55.614Z"
      },
      {
        "duration": 67,
        "start_time": "2022-10-02T16:20:56.867Z"
      },
      {
        "duration": 13,
        "start_time": "2022-10-02T16:20:56.936Z"
      },
      {
        "duration": 7,
        "start_time": "2022-10-02T16:20:56.951Z"
      },
      {
        "duration": 62,
        "start_time": "2022-10-02T16:20:56.960Z"
      },
      {
        "duration": 9,
        "start_time": "2022-10-02T16:20:57.024Z"
      },
      {
        "duration": 119,
        "start_time": "2022-10-02T16:20:57.035Z"
      },
      {
        "duration": 0,
        "start_time": "2022-10-02T16:20:57.156Z"
      },
      {
        "duration": 395,
        "start_time": "2022-10-02T16:24:15.510Z"
      },
      {
        "duration": 325,
        "start_time": "2022-10-02T16:24:46.971Z"
      },
      {
        "duration": 886,
        "start_time": "2022-10-02T16:26:36.051Z"
      },
      {
        "duration": 357,
        "start_time": "2022-10-02T16:26:51.443Z"
      },
      {
        "duration": 897,
        "start_time": "2022-10-02T16:27:17.404Z"
      },
      {
        "duration": 881,
        "start_time": "2022-10-02T16:27:25.005Z"
      },
      {
        "duration": 900,
        "start_time": "2022-10-02T16:27:53.970Z"
      },
      {
        "duration": 396,
        "start_time": "2022-10-02T16:29:30.901Z"
      },
      {
        "duration": 9,
        "start_time": "2022-10-02T16:34:36.505Z"
      },
      {
        "duration": 1165,
        "start_time": "2022-10-02T16:34:44.181Z"
      },
      {
        "duration": 63,
        "start_time": "2022-10-02T16:34:45.348Z"
      },
      {
        "duration": 14,
        "start_time": "2022-10-02T16:34:45.412Z"
      },
      {
        "duration": 8,
        "start_time": "2022-10-02T16:34:45.428Z"
      },
      {
        "duration": 58,
        "start_time": "2022-10-02T16:34:45.439Z"
      },
      {
        "duration": 12,
        "start_time": "2022-10-02T16:34:45.500Z"
      },
      {
        "duration": 186,
        "start_time": "2022-10-02T16:34:45.514Z"
      },
      {
        "duration": 797,
        "start_time": "2022-10-02T16:34:45.701Z"
      },
      {
        "duration": 158,
        "start_time": "2022-10-02T16:34:46.500Z"
      },
      {
        "duration": 208,
        "start_time": "2022-10-02T16:38:11.191Z"
      },
      {
        "duration": 1020,
        "start_time": "2022-10-02T16:40:28.071Z"
      },
      {
        "duration": 15451,
        "start_time": "2022-10-02T16:42:41.790Z"
      },
      {
        "duration": 14845,
        "start_time": "2022-10-02T16:43:18.307Z"
      },
      {
        "duration": 1124,
        "start_time": "2022-10-02T16:43:43.087Z"
      },
      {
        "duration": 63,
        "start_time": "2022-10-02T16:43:44.213Z"
      },
      {
        "duration": 12,
        "start_time": "2022-10-02T16:43:44.277Z"
      },
      {
        "duration": 9,
        "start_time": "2022-10-02T16:43:44.292Z"
      },
      {
        "duration": 30,
        "start_time": "2022-10-02T16:43:44.303Z"
      },
      {
        "duration": 9,
        "start_time": "2022-10-02T16:43:44.334Z"
      },
      {
        "duration": 259,
        "start_time": "2022-10-02T16:43:44.345Z"
      },
      {
        "duration": 923,
        "start_time": "2022-10-02T16:43:44.607Z"
      },
      {
        "duration": 13,
        "start_time": "2022-10-02T16:43:45.531Z"
      },
      {
        "duration": 14827,
        "start_time": "2022-10-02T16:43:45.546Z"
      },
      {
        "duration": 102,
        "start_time": "2022-10-02T16:44:09.703Z"
      },
      {
        "duration": 10026,
        "start_time": "2022-10-02T16:44:19.387Z"
      },
      {
        "duration": 6,
        "start_time": "2022-10-02T16:46:43.392Z"
      },
      {
        "duration": 5,
        "start_time": "2022-10-02T16:46:48.974Z"
      },
      {
        "duration": 803,
        "start_time": "2022-10-02T16:46:56.102Z"
      },
      {
        "duration": 6,
        "start_time": "2022-10-02T16:46:57.737Z"
      },
      {
        "duration": 3,
        "start_time": "2022-10-02T16:53:05.357Z"
      },
      {
        "duration": 4,
        "start_time": "2022-10-02T16:56:47.799Z"
      },
      {
        "duration": 401,
        "start_time": "2022-10-02T16:59:59.798Z"
      },
      {
        "duration": 360,
        "start_time": "2022-10-02T17:00:13.537Z"
      },
      {
        "duration": 410,
        "start_time": "2022-10-02T17:00:45.887Z"
      },
      {
        "duration": 240,
        "start_time": "2022-10-02T17:01:16.756Z"
      },
      {
        "duration": 779,
        "start_time": "2022-10-02T17:01:37.116Z"
      },
      {
        "duration": 761,
        "start_time": "2022-10-02T17:01:44.837Z"
      },
      {
        "duration": 799,
        "start_time": "2022-10-02T17:01:54.826Z"
      },
      {
        "duration": 10803,
        "start_time": "2022-10-02T17:02:49.547Z"
      },
      {
        "duration": 897,
        "start_time": "2022-10-02T17:03:47.802Z"
      },
      {
        "duration": 7,
        "start_time": "2022-10-02T17:03:49.008Z"
      },
      {
        "duration": 887,
        "start_time": "2022-10-02T17:03:56.936Z"
      },
      {
        "duration": 9,
        "start_time": "2022-10-02T17:03:58.037Z"
      },
      {
        "duration": 522,
        "start_time": "2022-10-02T17:04:04.228Z"
      },
      {
        "duration": 8,
        "start_time": "2022-10-02T17:04:05.418Z"
      },
      {
        "duration": 1083,
        "start_time": "2022-10-02T17:04:11.931Z"
      },
      {
        "duration": 9,
        "start_time": "2022-10-02T17:04:13.016Z"
      },
      {
        "duration": 24964,
        "start_time": "2022-10-02T17:04:24.040Z"
      },
      {
        "duration": 897,
        "start_time": "2022-10-02T17:04:53.535Z"
      },
      {
        "duration": 8,
        "start_time": "2022-10-02T17:04:55.556Z"
      },
      {
        "duration": 5,
        "start_time": "2022-10-02T17:07:07.877Z"
      },
      {
        "duration": 16,
        "start_time": "2022-10-02T17:07:35.656Z"
      },
      {
        "duration": 8615,
        "start_time": "2022-10-02T17:08:23.106Z"
      },
      {
        "duration": 886,
        "start_time": "2022-10-02T17:08:55.796Z"
      },
      {
        "duration": 17,
        "start_time": "2022-10-02T17:08:56.684Z"
      },
      {
        "duration": 9,
        "start_time": "2022-10-02T17:10:47.057Z"
      },
      {
        "duration": 1170,
        "start_time": "2022-10-02T17:11:09.374Z"
      },
      {
        "duration": 74,
        "start_time": "2022-10-02T17:11:10.547Z"
      },
      {
        "duration": 15,
        "start_time": "2022-10-02T17:11:10.625Z"
      },
      {
        "duration": 9,
        "start_time": "2022-10-02T17:11:10.643Z"
      },
      {
        "duration": 52,
        "start_time": "2022-10-02T17:11:10.654Z"
      },
      {
        "duration": 9,
        "start_time": "2022-10-02T17:11:10.708Z"
      },
      {
        "duration": 381,
        "start_time": "2022-10-02T17:11:10.719Z"
      },
      {
        "duration": 888,
        "start_time": "2022-10-02T17:11:11.102Z"
      },
      {
        "duration": 13,
        "start_time": "2022-10-02T17:11:11.994Z"
      },
      {
        "duration": 24896,
        "start_time": "2022-10-02T17:11:12.009Z"
      },
      {
        "duration": 11,
        "start_time": "2022-10-02T17:11:36.907Z"
      },
      {
        "duration": 8895,
        "start_time": "2022-10-02T17:11:36.920Z"
      },
      {
        "duration": 858,
        "start_time": "2022-10-02T17:11:45.816Z"
      },
      {
        "duration": 9,
        "start_time": "2022-10-02T17:11:46.676Z"
      },
      {
        "duration": 109,
        "start_time": "2022-10-02T17:14:41.096Z"
      },
      {
        "duration": 11,
        "start_time": "2022-10-02T17:15:00.153Z"
      },
      {
        "duration": 1100,
        "start_time": "2022-10-02T17:15:07.629Z"
      },
      {
        "duration": 63,
        "start_time": "2022-10-02T17:15:08.731Z"
      },
      {
        "duration": 12,
        "start_time": "2022-10-02T17:15:08.796Z"
      },
      {
        "duration": 12,
        "start_time": "2022-10-02T17:15:08.811Z"
      },
      {
        "duration": 131,
        "start_time": "2022-10-02T17:15:08.825Z"
      },
      {
        "duration": 0,
        "start_time": "2022-10-02T17:15:08.958Z"
      },
      {
        "duration": 0,
        "start_time": "2022-10-02T17:15:08.959Z"
      },
      {
        "duration": 0,
        "start_time": "2022-10-02T17:15:08.961Z"
      },
      {
        "duration": 0,
        "start_time": "2022-10-02T17:15:08.962Z"
      },
      {
        "duration": 0,
        "start_time": "2022-10-02T17:15:08.963Z"
      },
      {
        "duration": 0,
        "start_time": "2022-10-02T17:15:08.964Z"
      },
      {
        "duration": 0,
        "start_time": "2022-10-02T17:15:08.965Z"
      },
      {
        "duration": 0,
        "start_time": "2022-10-02T17:15:08.966Z"
      },
      {
        "duration": 0,
        "start_time": "2022-10-02T17:15:08.967Z"
      },
      {
        "duration": 9,
        "start_time": "2022-10-02T17:15:32.793Z"
      },
      {
        "duration": 1134,
        "start_time": "2022-10-02T17:15:48.272Z"
      },
      {
        "duration": 61,
        "start_time": "2022-10-02T17:15:49.408Z"
      },
      {
        "duration": 12,
        "start_time": "2022-10-02T17:15:49.471Z"
      },
      {
        "duration": 11,
        "start_time": "2022-10-02T17:15:49.485Z"
      },
      {
        "duration": 103,
        "start_time": "2022-10-02T17:15:49.497Z"
      },
      {
        "duration": 0,
        "start_time": "2022-10-02T17:15:49.603Z"
      },
      {
        "duration": 0,
        "start_time": "2022-10-02T17:15:49.604Z"
      },
      {
        "duration": 0,
        "start_time": "2022-10-02T17:15:49.606Z"
      },
      {
        "duration": 1,
        "start_time": "2022-10-02T17:15:49.606Z"
      },
      {
        "duration": 0,
        "start_time": "2022-10-02T17:15:49.607Z"
      },
      {
        "duration": 0,
        "start_time": "2022-10-02T17:15:49.608Z"
      },
      {
        "duration": 0,
        "start_time": "2022-10-02T17:15:49.609Z"
      },
      {
        "duration": 0,
        "start_time": "2022-10-02T17:15:49.610Z"
      },
      {
        "duration": 0,
        "start_time": "2022-10-02T17:15:49.611Z"
      },
      {
        "duration": 1192,
        "start_time": "2022-10-02T17:16:06.944Z"
      },
      {
        "duration": 100,
        "start_time": "2022-10-02T17:16:08.138Z"
      },
      {
        "duration": 64,
        "start_time": "2022-10-02T17:16:08.239Z"
      },
      {
        "duration": 15,
        "start_time": "2022-10-02T17:16:08.306Z"
      },
      {
        "duration": 79,
        "start_time": "2022-10-02T17:16:08.323Z"
      },
      {
        "duration": 8,
        "start_time": "2022-10-02T17:16:08.404Z"
      },
      {
        "duration": 389,
        "start_time": "2022-10-02T17:16:08.414Z"
      },
      {
        "duration": 1664,
        "start_time": "2022-10-02T17:16:08.804Z"
      },
      {
        "duration": 12,
        "start_time": "2022-10-02T17:16:10.469Z"
      },
      {
        "duration": 24466,
        "start_time": "2022-10-02T17:16:10.484Z"
      },
      {
        "duration": 11,
        "start_time": "2022-10-02T17:16:34.952Z"
      },
      {
        "duration": 9045,
        "start_time": "2022-10-02T17:16:34.965Z"
      },
      {
        "duration": 840,
        "start_time": "2022-10-02T17:16:44.012Z"
      },
      {
        "duration": 8,
        "start_time": "2022-10-02T17:16:44.853Z"
      },
      {
        "duration": 0,
        "start_time": "2022-10-02T17:16:46.345Z"
      },
      {
        "duration": 1074,
        "start_time": "2022-10-02T17:16:50.513Z"
      },
      {
        "duration": 59,
        "start_time": "2022-10-02T17:16:51.589Z"
      },
      {
        "duration": 11,
        "start_time": "2022-10-02T17:16:51.650Z"
      },
      {
        "duration": 1683,
        "start_time": "2022-10-02T17:16:51.664Z"
      },
      {
        "duration": 0,
        "start_time": "2022-10-02T17:16:53.349Z"
      },
      {
        "duration": 0,
        "start_time": "2022-10-02T17:16:53.350Z"
      },
      {
        "duration": 0,
        "start_time": "2022-10-02T17:16:53.351Z"
      },
      {
        "duration": 0,
        "start_time": "2022-10-02T17:16:53.352Z"
      },
      {
        "duration": 0,
        "start_time": "2022-10-02T17:16:53.353Z"
      },
      {
        "duration": 0,
        "start_time": "2022-10-02T17:16:53.354Z"
      },
      {
        "duration": 0,
        "start_time": "2022-10-02T17:16:53.356Z"
      },
      {
        "duration": 0,
        "start_time": "2022-10-02T17:16:53.357Z"
      },
      {
        "duration": 0,
        "start_time": "2022-10-02T17:16:53.357Z"
      },
      {
        "duration": 0,
        "start_time": "2022-10-02T17:16:53.359Z"
      },
      {
        "duration": 12,
        "start_time": "2022-10-02T17:17:29.895Z"
      },
      {
        "duration": 1160,
        "start_time": "2022-10-02T17:20:54.299Z"
      },
      {
        "duration": 62,
        "start_time": "2022-10-02T17:20:55.461Z"
      },
      {
        "duration": 11,
        "start_time": "2022-10-02T17:20:55.525Z"
      },
      {
        "duration": 109,
        "start_time": "2022-10-02T17:20:55.538Z"
      },
      {
        "duration": 0,
        "start_time": "2022-10-02T17:20:55.649Z"
      },
      {
        "duration": 0,
        "start_time": "2022-10-02T17:20:55.650Z"
      },
      {
        "duration": 0,
        "start_time": "2022-10-02T17:20:55.651Z"
      },
      {
        "duration": 0,
        "start_time": "2022-10-02T17:20:55.652Z"
      },
      {
        "duration": 0,
        "start_time": "2022-10-02T17:20:55.654Z"
      },
      {
        "duration": 0,
        "start_time": "2022-10-02T17:20:55.655Z"
      },
      {
        "duration": 0,
        "start_time": "2022-10-02T17:20:55.656Z"
      },
      {
        "duration": 0,
        "start_time": "2022-10-02T17:20:55.657Z"
      },
      {
        "duration": 0,
        "start_time": "2022-10-02T17:20:55.658Z"
      },
      {
        "duration": 0,
        "start_time": "2022-10-02T17:20:55.659Z"
      },
      {
        "duration": 8,
        "start_time": "2022-10-02T17:21:19.192Z"
      },
      {
        "duration": 1108,
        "start_time": "2022-10-02T17:21:30.436Z"
      },
      {
        "duration": 64,
        "start_time": "2022-10-02T17:21:31.546Z"
      },
      {
        "duration": 12,
        "start_time": "2022-10-02T17:21:31.611Z"
      },
      {
        "duration": 6,
        "start_time": "2022-10-02T17:21:31.625Z"
      },
      {
        "duration": 30,
        "start_time": "2022-10-02T17:21:31.633Z"
      },
      {
        "duration": 9,
        "start_time": "2022-10-02T17:21:31.664Z"
      },
      {
        "duration": 121,
        "start_time": "2022-10-02T17:21:31.696Z"
      },
      {
        "duration": 0,
        "start_time": "2022-10-02T17:21:31.819Z"
      },
      {
        "duration": 0,
        "start_time": "2022-10-02T17:21:31.820Z"
      },
      {
        "duration": 0,
        "start_time": "2022-10-02T17:21:31.822Z"
      },
      {
        "duration": 0,
        "start_time": "2022-10-02T17:21:31.823Z"
      },
      {
        "duration": 0,
        "start_time": "2022-10-02T17:21:31.825Z"
      },
      {
        "duration": 0,
        "start_time": "2022-10-02T17:21:31.826Z"
      },
      {
        "duration": 0,
        "start_time": "2022-10-02T17:21:31.828Z"
      },
      {
        "duration": 12,
        "start_time": "2022-10-02T17:22:06.403Z"
      },
      {
        "duration": 4,
        "start_time": "2022-10-02T17:22:56.459Z"
      },
      {
        "duration": 14,
        "start_time": "2022-10-02T17:23:14.205Z"
      },
      {
        "duration": 3,
        "start_time": "2022-10-02T17:23:37.877Z"
      },
      {
        "duration": 73,
        "start_time": "2022-10-02T17:23:48.207Z"
      },
      {
        "duration": 19,
        "start_time": "2022-10-02T17:24:01.007Z"
      },
      {
        "duration": 5,
        "start_time": "2022-10-02T17:25:56.667Z"
      },
      {
        "duration": 1223,
        "start_time": "2022-10-02T17:26:01.724Z"
      },
      {
        "duration": 63,
        "start_time": "2022-10-02T17:26:02.950Z"
      },
      {
        "duration": 11,
        "start_time": "2022-10-02T17:26:03.015Z"
      },
      {
        "duration": 12,
        "start_time": "2022-10-02T17:26:03.028Z"
      },
      {
        "duration": 34,
        "start_time": "2022-10-02T17:26:03.042Z"
      },
      {
        "duration": 23,
        "start_time": "2022-10-02T17:26:03.078Z"
      },
      {
        "duration": 591,
        "start_time": "2022-10-02T17:26:03.104Z"
      },
      {
        "duration": 867,
        "start_time": "2022-10-02T17:26:03.700Z"
      },
      {
        "duration": 14,
        "start_time": "2022-10-02T17:26:04.569Z"
      },
      {
        "duration": 24691,
        "start_time": "2022-10-02T17:26:04.594Z"
      },
      {
        "duration": 15,
        "start_time": "2022-10-02T17:26:29.287Z"
      },
      {
        "duration": 8677,
        "start_time": "2022-10-02T17:26:29.304Z"
      },
      {
        "duration": 896,
        "start_time": "2022-10-02T17:26:37.983Z"
      },
      {
        "duration": 16,
        "start_time": "2022-10-02T17:26:38.882Z"
      },
      {
        "duration": 740,
        "start_time": "2022-10-02T17:27:21.644Z"
      },
      {
        "duration": 8,
        "start_time": "2022-10-02T17:27:22.549Z"
      },
      {
        "duration": 21,
        "start_time": "2022-10-02T17:28:38.179Z"
      },
      {
        "duration": 73,
        "start_time": "2022-10-02T17:47:23.030Z"
      },
      {
        "duration": 346,
        "start_time": "2022-10-02T17:48:04.582Z"
      },
      {
        "duration": 1113,
        "start_time": "2022-10-02T17:48:13.902Z"
      },
      {
        "duration": 62,
        "start_time": "2022-10-02T17:48:15.017Z"
      },
      {
        "duration": 12,
        "start_time": "2022-10-02T17:48:15.081Z"
      },
      {
        "duration": 5,
        "start_time": "2022-10-02T17:48:15.095Z"
      },
      {
        "duration": 24,
        "start_time": "2022-10-02T17:48:15.102Z"
      },
      {
        "duration": 9,
        "start_time": "2022-10-02T17:48:15.128Z"
      },
      {
        "duration": 360,
        "start_time": "2022-10-02T17:48:15.139Z"
      },
      {
        "duration": 795,
        "start_time": "2022-10-02T17:48:15.594Z"
      },
      {
        "duration": 14,
        "start_time": "2022-10-02T17:48:16.395Z"
      },
      {
        "duration": 72,
        "start_time": "2022-10-02T17:48:16.412Z"
      },
      {
        "duration": 0,
        "start_time": "2022-10-02T17:48:16.486Z"
      },
      {
        "duration": 0,
        "start_time": "2022-10-02T17:48:16.488Z"
      },
      {
        "duration": 0,
        "start_time": "2022-10-02T17:48:16.489Z"
      },
      {
        "duration": 0,
        "start_time": "2022-10-02T17:48:16.490Z"
      },
      {
        "duration": 0,
        "start_time": "2022-10-02T17:48:16.492Z"
      },
      {
        "duration": 97,
        "start_time": "2022-10-02T17:48:33.417Z"
      },
      {
        "duration": 988,
        "start_time": "2022-10-02T17:48:42.103Z"
      },
      {
        "duration": 10,
        "start_time": "2022-10-02T17:49:13.471Z"
      },
      {
        "duration": 1146,
        "start_time": "2022-10-02T17:49:25.832Z"
      },
      {
        "duration": 62,
        "start_time": "2022-10-02T17:49:26.980Z"
      },
      {
        "duration": 12,
        "start_time": "2022-10-02T17:49:27.043Z"
      },
      {
        "duration": 5,
        "start_time": "2022-10-02T17:49:27.057Z"
      },
      {
        "duration": 22,
        "start_time": "2022-10-02T17:49:27.063Z"
      },
      {
        "duration": 13,
        "start_time": "2022-10-02T17:49:27.087Z"
      },
      {
        "duration": 395,
        "start_time": "2022-10-02T17:49:27.102Z"
      },
      {
        "duration": 840,
        "start_time": "2022-10-02T17:49:27.499Z"
      },
      {
        "duration": 14,
        "start_time": "2022-10-02T17:49:28.340Z"
      },
      {
        "duration": 987,
        "start_time": "2022-10-02T17:49:28.356Z"
      },
      {
        "duration": 12,
        "start_time": "2022-10-02T17:49:29.345Z"
      },
      {
        "duration": 345,
        "start_time": "2022-10-02T17:49:29.358Z"
      },
      {
        "duration": 25264,
        "start_time": "2022-10-02T17:49:29.704Z"
      },
      {
        "duration": 702,
        "start_time": "2022-10-02T17:49:54.969Z"
      },
      {
        "duration": 8,
        "start_time": "2022-10-02T17:49:55.673Z"
      },
      {
        "duration": 74,
        "start_time": "2022-10-02T17:57:47.744Z"
      },
      {
        "duration": 1130,
        "start_time": "2022-10-02T17:58:17.459Z"
      },
      {
        "duration": 60,
        "start_time": "2022-10-02T17:58:18.591Z"
      },
      {
        "duration": 11,
        "start_time": "2022-10-02T17:58:18.653Z"
      },
      {
        "duration": 4,
        "start_time": "2022-10-02T17:58:18.666Z"
      },
      {
        "duration": 33,
        "start_time": "2022-10-02T17:58:18.672Z"
      },
      {
        "duration": 9,
        "start_time": "2022-10-02T17:58:18.707Z"
      },
      {
        "duration": 382,
        "start_time": "2022-10-02T17:58:18.717Z"
      },
      {
        "duration": 844,
        "start_time": "2022-10-02T17:58:19.102Z"
      },
      {
        "duration": 14,
        "start_time": "2022-10-02T17:58:19.948Z"
      },
      {
        "duration": 1065,
        "start_time": "2022-10-02T17:58:19.965Z"
      },
      {
        "duration": 13,
        "start_time": "2022-10-02T17:58:21.033Z"
      },
      {
        "duration": 360,
        "start_time": "2022-10-02T17:58:21.048Z"
      },
      {
        "duration": 24194,
        "start_time": "2022-10-02T17:58:21.411Z"
      },
      {
        "duration": 727,
        "start_time": "2022-10-02T17:58:45.606Z"
      },
      {
        "duration": 8,
        "start_time": "2022-10-02T17:58:46.335Z"
      },
      {
        "duration": 1062,
        "start_time": "2022-10-03T08:39:34.882Z"
      },
      {
        "duration": 99,
        "start_time": "2022-10-03T08:39:35.946Z"
      },
      {
        "duration": 10,
        "start_time": "2022-10-03T08:39:36.047Z"
      },
      {
        "duration": 5,
        "start_time": "2022-10-03T08:39:36.059Z"
      },
      {
        "duration": 21,
        "start_time": "2022-10-03T08:39:36.065Z"
      },
      {
        "duration": 8,
        "start_time": "2022-10-03T08:39:36.087Z"
      },
      {
        "duration": 544,
        "start_time": "2022-10-03T08:39:36.096Z"
      },
      {
        "duration": 897,
        "start_time": "2022-10-03T08:39:36.642Z"
      },
      {
        "duration": 13,
        "start_time": "2022-10-03T08:39:37.540Z"
      },
      {
        "duration": 1020,
        "start_time": "2022-10-03T08:39:37.555Z"
      },
      {
        "duration": 14,
        "start_time": "2022-10-03T08:39:38.578Z"
      },
      {
        "duration": 364,
        "start_time": "2022-10-03T08:39:38.595Z"
      },
      {
        "duration": 25463,
        "start_time": "2022-10-03T08:39:38.961Z"
      },
      {
        "duration": 731,
        "start_time": "2022-10-03T08:40:04.425Z"
      },
      {
        "duration": 8,
        "start_time": "2022-10-03T08:40:05.157Z"
      },
      {
        "duration": 103,
        "start_time": "2022-10-03T08:40:40.353Z"
      },
      {
        "duration": 5,
        "start_time": "2022-10-03T08:41:31.060Z"
      },
      {
        "duration": 7,
        "start_time": "2022-10-03T08:43:54.320Z"
      },
      {
        "duration": 5,
        "start_time": "2022-10-03T08:44:08.599Z"
      },
      {
        "duration": 440,
        "start_time": "2022-10-03T08:45:47.571Z"
      },
      {
        "duration": 4,
        "start_time": "2022-10-03T08:45:50.096Z"
      },
      {
        "duration": 67,
        "start_time": "2022-10-03T08:47:04.522Z"
      },
      {
        "duration": 67,
        "start_time": "2022-10-03T08:48:19.137Z"
      },
      {
        "duration": 119,
        "start_time": "2022-10-03T08:49:16.349Z"
      },
      {
        "duration": 68,
        "start_time": "2022-10-03T08:49:21.788Z"
      },
      {
        "duration": 12,
        "start_time": "2022-10-03T09:24:23.739Z"
      },
      {
        "duration": 552,
        "start_time": "2022-10-03T09:24:25.130Z"
      },
      {
        "duration": 14105,
        "start_time": "2022-10-03T09:25:10.956Z"
      },
      {
        "duration": 471,
        "start_time": "2022-10-03T09:25:37.687Z"
      },
      {
        "duration": 8,
        "start_time": "2022-10-03T09:25:39.939Z"
      },
      {
        "duration": 24096,
        "start_time": "2022-10-03T09:25:53.453Z"
      },
      {
        "duration": 790,
        "start_time": "2022-10-03T09:26:17.550Z"
      },
      {
        "duration": 8,
        "start_time": "2022-10-03T09:26:18.342Z"
      },
      {
        "duration": 11,
        "start_time": "2022-10-03T09:26:53.920Z"
      },
      {
        "duration": 613,
        "start_time": "2022-10-03T09:26:55.643Z"
      },
      {
        "duration": 14873,
        "start_time": "2022-10-03T09:27:20.943Z"
      },
      {
        "duration": 576,
        "start_time": "2022-10-03T09:27:42.798Z"
      },
      {
        "duration": 7,
        "start_time": "2022-10-03T09:27:44.232Z"
      },
      {
        "duration": 24099,
        "start_time": "2022-10-03T09:27:50.962Z"
      },
      {
        "duration": 1016,
        "start_time": "2022-10-03T09:28:26.500Z"
      },
      {
        "duration": 9,
        "start_time": "2022-10-03T09:28:27.518Z"
      },
      {
        "duration": 677,
        "start_time": "2022-10-03T09:28:39.346Z"
      },
      {
        "duration": 10,
        "start_time": "2022-10-03T09:28:41.178Z"
      },
      {
        "duration": 3,
        "start_time": "2022-10-03T09:32:05.057Z"
      },
      {
        "duration": 70,
        "start_time": "2022-10-03T09:33:29.404Z"
      },
      {
        "duration": 80,
        "start_time": "2022-10-03T09:33:51.044Z"
      },
      {
        "duration": 76,
        "start_time": "2022-10-03T09:33:56.348Z"
      },
      {
        "duration": 10,
        "start_time": "2022-10-03T09:34:25.868Z"
      },
      {
        "duration": 167,
        "start_time": "2022-10-03T09:34:37.359Z"
      },
      {
        "duration": 1330,
        "start_time": "2022-10-03T09:37:01.914Z"
      },
      {
        "duration": 60,
        "start_time": "2022-10-03T09:37:03.246Z"
      },
      {
        "duration": 11,
        "start_time": "2022-10-03T09:37:03.308Z"
      },
      {
        "duration": 5,
        "start_time": "2022-10-03T09:37:03.321Z"
      },
      {
        "duration": 24,
        "start_time": "2022-10-03T09:37:03.328Z"
      },
      {
        "duration": 9,
        "start_time": "2022-10-03T09:37:03.354Z"
      },
      {
        "duration": 483,
        "start_time": "2022-10-03T09:37:03.365Z"
      },
      {
        "duration": 843,
        "start_time": "2022-10-03T09:37:03.940Z"
      },
      {
        "duration": 104,
        "start_time": "2022-10-03T09:37:04.785Z"
      },
      {
        "duration": 13,
        "start_time": "2022-10-03T09:37:04.891Z"
      },
      {
        "duration": 972,
        "start_time": "2022-10-03T09:37:04.905Z"
      },
      {
        "duration": 12,
        "start_time": "2022-10-03T09:37:05.879Z"
      },
      {
        "duration": 608,
        "start_time": "2022-10-03T09:37:05.893Z"
      },
      {
        "duration": 23750,
        "start_time": "2022-10-03T09:37:06.503Z"
      },
      {
        "duration": 713,
        "start_time": "2022-10-03T09:37:30.254Z"
      },
      {
        "duration": 7,
        "start_time": "2022-10-03T09:37:30.968Z"
      },
      {
        "duration": 128,
        "start_time": "2022-10-03T09:37:30.977Z"
      },
      {
        "duration": 4,
        "start_time": "2022-10-03T09:42:16.890Z"
      },
      {
        "duration": 306,
        "start_time": "2022-10-03T09:43:21.362Z"
      },
      {
        "duration": 359,
        "start_time": "2022-10-03T09:44:11.761Z"
      },
      {
        "duration": 3,
        "start_time": "2022-10-03T09:44:39.248Z"
      },
      {
        "duration": 14,
        "start_time": "2022-10-03T09:44:45.301Z"
      },
      {
        "duration": 16,
        "start_time": "2022-10-03T09:45:01.092Z"
      },
      {
        "duration": 1398,
        "start_time": "2022-10-03T09:45:14.732Z"
      },
      {
        "duration": 66,
        "start_time": "2022-10-03T09:45:16.132Z"
      },
      {
        "duration": 12,
        "start_time": "2022-10-03T09:45:16.199Z"
      },
      {
        "duration": 19,
        "start_time": "2022-10-03T09:45:16.214Z"
      },
      {
        "duration": 21,
        "start_time": "2022-10-03T09:45:16.235Z"
      },
      {
        "duration": 9,
        "start_time": "2022-10-03T09:45:16.258Z"
      },
      {
        "duration": 381,
        "start_time": "2022-10-03T09:45:16.268Z"
      },
      {
        "duration": 894,
        "start_time": "2022-10-03T09:45:16.654Z"
      },
      {
        "duration": 97,
        "start_time": "2022-10-03T09:45:17.550Z"
      },
      {
        "duration": 14,
        "start_time": "2022-10-03T09:45:17.650Z"
      },
      {
        "duration": 1074,
        "start_time": "2022-10-03T09:45:17.665Z"
      },
      {
        "duration": 11,
        "start_time": "2022-10-03T09:45:18.741Z"
      },
      {
        "duration": 649,
        "start_time": "2022-10-03T09:45:18.753Z"
      },
      {
        "duration": 24590,
        "start_time": "2022-10-03T09:45:19.404Z"
      },
      {
        "duration": 734,
        "start_time": "2022-10-03T09:45:43.995Z"
      },
      {
        "duration": 11,
        "start_time": "2022-10-03T09:45:44.731Z"
      },
      {
        "duration": 132,
        "start_time": "2022-10-03T09:45:44.743Z"
      },
      {
        "duration": 24360,
        "start_time": "2022-10-03T09:45:58.812Z"
      },
      {
        "duration": 1021,
        "start_time": "2022-10-03T09:46:28.721Z"
      },
      {
        "duration": 7,
        "start_time": "2022-10-03T09:46:30.655Z"
      },
      {
        "duration": 698,
        "start_time": "2022-10-03T09:46:58.540Z"
      },
      {
        "duration": 10,
        "start_time": "2022-10-03T09:46:59.420Z"
      },
      {
        "duration": 24628,
        "start_time": "2022-10-03T09:47:07.467Z"
      },
      {
        "duration": 843,
        "start_time": "2022-10-03T09:47:34.534Z"
      },
      {
        "duration": 9,
        "start_time": "2022-10-03T09:47:36.420Z"
      },
      {
        "duration": 25064,
        "start_time": "2022-10-03T09:47:47.258Z"
      },
      {
        "duration": 774,
        "start_time": "2022-10-03T09:48:58.225Z"
      },
      {
        "duration": 8,
        "start_time": "2022-10-03T09:48:59.617Z"
      },
      {
        "duration": 117,
        "start_time": "2022-10-03T09:49:04.074Z"
      },
      {
        "duration": 1406,
        "start_time": "2022-10-03T09:49:11.572Z"
      },
      {
        "duration": 62,
        "start_time": "2022-10-03T09:49:12.980Z"
      },
      {
        "duration": 12,
        "start_time": "2022-10-03T09:49:13.044Z"
      },
      {
        "duration": 18,
        "start_time": "2022-10-03T09:49:13.058Z"
      },
      {
        "duration": 22,
        "start_time": "2022-10-03T09:49:13.078Z"
      },
      {
        "duration": 9,
        "start_time": "2022-10-03T09:49:13.102Z"
      },
      {
        "duration": 938,
        "start_time": "2022-10-03T09:49:13.112Z"
      },
      {
        "duration": 908,
        "start_time": "2022-10-03T09:49:14.140Z"
      },
      {
        "duration": 108,
        "start_time": "2022-10-03T09:49:15.049Z"
      },
      {
        "duration": 18,
        "start_time": "2022-10-03T09:49:15.159Z"
      },
      {
        "duration": 1042,
        "start_time": "2022-10-03T09:49:15.180Z"
      },
      {
        "duration": 21,
        "start_time": "2022-10-03T09:49:16.224Z"
      },
      {
        "duration": 637,
        "start_time": "2022-10-03T09:49:16.247Z"
      },
      {
        "duration": 24554,
        "start_time": "2022-10-03T09:49:16.887Z"
      },
      {
        "duration": 749,
        "start_time": "2022-10-03T09:49:41.443Z"
      },
      {
        "duration": 8,
        "start_time": "2022-10-03T09:49:42.194Z"
      },
      {
        "duration": 130,
        "start_time": "2022-10-03T09:49:42.203Z"
      }
    ],
    "kernelspec": {
      "display_name": "Python 3 (ipykernel)",
      "language": "python",
      "name": "python3"
    },
    "language_info": {
      "codemirror_mode": {
        "name": "ipython",
        "version": 3
      },
      "file_extension": ".py",
      "mimetype": "text/x-python",
      "name": "python",
      "nbconvert_exporter": "python",
      "pygments_lexer": "ipython3",
      "version": "3.9.5"
    },
    "toc": {
      "base_numbering": 1,
      "nav_menu": {},
      "number_sections": true,
      "sideBar": true,
      "skip_h1_title": true,
      "title_cell": "Содержание",
      "title_sidebar": "Contents",
      "toc_cell": true,
      "toc_position": {
        "height": "calc(100% - 180px)",
        "left": "10px",
        "top": "150px",
        "width": "165px"
      },
      "toc_section_display": true,
      "toc_window_display": true
    },
    "colab": {
      "provenance": []
    }
  },
  "nbformat": 4,
  "nbformat_minor": 0
}